{
 "cells": [
  {
   "cell_type": "markdown",
   "metadata": {},
   "source": [
    "Course : MACHINE LEARNING WITH DEPLOYMENT AND DEEP LEARNING"
   ]
  },
  {
   "cell_type": "markdown",
   "metadata": {},
   "source": [
    "Python Assignment - 01 By Subham Bagchi"
   ]
  },
  {
   "cell_type": "markdown",
   "metadata": {},
   "source": [
    "1.1 Write a Python Program(with class concepts) to find the area of the triangle using the below\n",
    "   formula.\n",
    "   area = (s*(s-a)*(s-b)*(s-c)) ** 0.5\n",
    "   Function to take the length of the sides of triangle from user should be defined in the parent\n",
    "   class and function to calculate the area should be defined in subclass."
   ]
  },
  {
   "cell_type": "code",
   "execution_count": 3,
   "metadata": {},
   "outputs": [
    {
     "name": "stdout",
     "output_type": "stream",
     "text": [
      "a = 4\n",
      "b = 13\n",
      "c = 15\n",
      "Area is : 24.0\n"
     ]
    }
   ],
   "source": [
    "class sides:\n",
    "    def __init__(self,a,b,c):\n",
    "        self.a = a\n",
    "        self.b = b\n",
    "        self.c = c\n",
    "\n",
    "class Triangle(sides):\n",
    "    def area(self):\n",
    "        s = (self.a + self.b + self.c)/2\n",
    "        area = (s*(s-self.a)*(s-self.b)*(s-self.c))**0.5\n",
    "        return area\n",
    "\n",
    "a = int(input('a = '))\n",
    "b = int(input('b = '))\n",
    "c = int(input('c = '))\n",
    "\n",
    "p = Triangle(a,b,c)\n",
    "print('Area is : {}'.format(p.area()))"
   ]
  },
  {
   "cell_type": "markdown",
   "metadata": {},
   "source": [
    "1.2 Write a function filter_long_words() that takes a list of words and an integer n and returns\n",
    "the list of words that are longer than n."
   ]
  },
  {
   "cell_type": "code",
   "execution_count": 11,
   "metadata": {},
   "outputs": [
    {
     "name": "stdout",
     "output_type": "stream",
     "text": [
      "Enter the words Subham Tom Dean\n",
      "Enter number 3\n",
      "['Subham', 'Dean']\n"
     ]
    }
   ],
   "source": [
    "def filter_long_words(s,n):\n",
    "    l = []\n",
    "    t = s.split(\" \")\n",
    "    for i in t:\n",
    "        if(len(i)>n):\n",
    "            l.append(i)\n",
    "    return l\n",
    "\n",
    "str = input('Enter the words ')\n",
    "number = int(input('Enter number '))\n",
    "p = filter_long_words(str,number)\n",
    "print(p)"
   ]
  },
  {
   "cell_type": "markdown",
   "metadata": {},
   "source": [
    "2.1 Write a Python program using function concept that maps list of words into a list of integers\n",
    "representing the lengths of the corresponding words.\n",
    "Hint: If a list [ ab,cde,erty] is passed on to the python function output should come as [2,3,4]\n",
    "Here 2,3 and 4 are the lengths of the words in the list."
   ]
  },
  {
   "cell_type": "code",
   "execution_count": 14,
   "metadata": {},
   "outputs": [
    {
     "name": "stdout",
     "output_type": "stream",
     "text": [
      "Enter words ab cde erty\n",
      "[2, 3, 4]\n"
     ]
    }
   ],
   "source": [
    "def word_to_length(l):\n",
    "    l1 = list(map(lambda x : len(x),l))\n",
    "    return l1\n",
    "\n",
    "w = input('Enter words ')\n",
    "t = w.split(' ')\n",
    "p = word_to_length(t)\n",
    "print(p)\n",
    "    "
   ]
  },
  {
   "cell_type": "markdown",
   "metadata": {},
   "source": [
    "2.2 Write a Python function which takes a character (i.e. a string of length 1) and returns True if\n",
    "it is a vowel, False otherwise."
   ]
  },
  {
   "cell_type": "code",
   "execution_count": 33,
   "metadata": {},
   "outputs": [
    {
     "name": "stdout",
     "output_type": "stream",
     "text": [
      "Enter character : a\n",
      "a is a vowel.\n"
     ]
    }
   ],
   "source": [
    "def vowel(s):\n",
    "    v = ['a','e','i','o','u']\n",
    "    \n",
    "    if s in v:\n",
    "        return True\n",
    "    else:\n",
    "        return False\n",
    "    \n",
    "\n",
    "s = input('Enter character : ')\n",
    "if (vowel(s)):\n",
    "    print(s, \"is a vowel.\")\n",
    "else:\n",
    "    print(s, \"is not a vowel.\")"
   ]
  },
  {
   "cell_type": "code",
   "execution_count": null,
   "metadata": {},
   "outputs": [],
   "source": []
  },
  {
   "cell_type": "code",
   "execution_count": null,
   "metadata": {},
   "outputs": [],
   "source": []
  }
 ],
 "metadata": {
  "kernelspec": {
   "display_name": "Python 3",
   "language": "python",
   "name": "python3"
  },
  "language_info": {
   "codemirror_mode": {
    "name": "ipython",
    "version": 3
   },
   "file_extension": ".py",
   "mimetype": "text/x-python",
   "name": "python",
   "nbconvert_exporter": "python",
   "pygments_lexer": "ipython3",
   "version": "3.7.3"
  }
 },
 "nbformat": 4,
 "nbformat_minor": 2
}
